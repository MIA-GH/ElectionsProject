{
 "cells": [
  {
   "cell_type": "code",
   "execution_count": 21,
   "metadata": {
    "collapsed": true
   },
   "outputs": [
    {
     "name": "stdout",
     "output_type": "stream",
     "text": [
      "done\n"
     ]
    }
   ],
   "source": [
    "# # # import the required libraries\n",
    "\n",
    "import pandas as pd\n",
    "import re\n",
    "print('done')"
   ]
  },
  {
   "cell_type": "code",
   "execution_count": 22,
   "outputs": [
    {
     "data": {
      "text/plain": "                    Date                   Id  \\\n0    2020-05-09 07:58:50  1259030051972157441   \n1    2020-05-09 07:58:32  1259029975153377280   \n2    2020-05-09 07:58:31  1259029972313952256   \n3    2020-05-08 11:30:43  1258720984321966080   \n4    2020-05-06 09:47:47  1257970305374584835   \n..                   ...                  ...   \n106  2019-11-23 10:03:58  1198180380710494208   \n107  2019-11-23 09:09:59  1198166796643295233   \n108  2019-11-23 09:09:04  1198166565004468225   \n109  2019-11-23 09:08:04  1198166312050155520   \n110  2019-11-19 23:07:27  1196927999389642753   \n\n                                                  Text  Likes  Re-Tweets  \\\n0    RT : It ’ s been a year since Nana Addo ordere...      0        106   \n1    I want to encourage you to protect yourself . ...    971        160   \n2    From 3,091 to 4,012 #COVID19 cases within 24 h...   1716        267   \n3    I invite you to join the call to GET INVOLVED ...   2836        370   \n4    Happy 70th Birthday Asantehene Otumfuo Osei Tu...   6991        613   \n..                                                 ...    ...        ...   \n106  With Asantehene Otumfuo Osei Tutu II https://t...    655         58   \n107  I was joined by the National Chairman of the N...   1334        117   \n108  Otumfuo Asantehene and I have always had a rel...   1848        196   \n109  I had the honour of welcoming the Asantehene ,...   4965        397   \n110  I delivered a lecture on ‘ Beyond Politics : A...   1037        119   \n\n     Location  \n0         NaN  \n1         NaN  \n2         NaN  \n3         NaN  \n4         NaN  \n..        ...  \n106       NaN  \n107       NaN  \n108       NaN  \n109       NaN  \n110       NaN  \n\n[111 rows x 6 columns]",
      "text/html": "<div>\n<style scoped>\n    .dataframe tbody tr th:only-of-type {\n        vertical-align: middle;\n    }\n\n    .dataframe tbody tr th {\n        vertical-align: top;\n    }\n\n    .dataframe thead th {\n        text-align: right;\n    }\n</style>\n<table border=\"1\" class=\"dataframe\">\n  <thead>\n    <tr style=\"text-align: right;\">\n      <th></th>\n      <th>Date</th>\n      <th>Id</th>\n      <th>Text</th>\n      <th>Likes</th>\n      <th>Re-Tweets</th>\n      <th>Location</th>\n    </tr>\n  </thead>\n  <tbody>\n    <tr>\n      <th>0</th>\n      <td>2020-05-09 07:58:50</td>\n      <td>1259030051972157441</td>\n      <td>RT : It ’ s been a year since Nana Addo ordere...</td>\n      <td>0</td>\n      <td>106</td>\n      <td>NaN</td>\n    </tr>\n    <tr>\n      <th>1</th>\n      <td>2020-05-09 07:58:32</td>\n      <td>1259029975153377280</td>\n      <td>I want to encourage you to protect yourself . ...</td>\n      <td>971</td>\n      <td>160</td>\n      <td>NaN</td>\n    </tr>\n    <tr>\n      <th>2</th>\n      <td>2020-05-09 07:58:31</td>\n      <td>1259029972313952256</td>\n      <td>From 3,091 to 4,012 #COVID19 cases within 24 h...</td>\n      <td>1716</td>\n      <td>267</td>\n      <td>NaN</td>\n    </tr>\n    <tr>\n      <th>3</th>\n      <td>2020-05-08 11:30:43</td>\n      <td>1258720984321966080</td>\n      <td>I invite you to join the call to GET INVOLVED ...</td>\n      <td>2836</td>\n      <td>370</td>\n      <td>NaN</td>\n    </tr>\n    <tr>\n      <th>4</th>\n      <td>2020-05-06 09:47:47</td>\n      <td>1257970305374584835</td>\n      <td>Happy 70th Birthday Asantehene Otumfuo Osei Tu...</td>\n      <td>6991</td>\n      <td>613</td>\n      <td>NaN</td>\n    </tr>\n    <tr>\n      <th>...</th>\n      <td>...</td>\n      <td>...</td>\n      <td>...</td>\n      <td>...</td>\n      <td>...</td>\n      <td>...</td>\n    </tr>\n    <tr>\n      <th>106</th>\n      <td>2019-11-23 10:03:58</td>\n      <td>1198180380710494208</td>\n      <td>With Asantehene Otumfuo Osei Tutu II https://t...</td>\n      <td>655</td>\n      <td>58</td>\n      <td>NaN</td>\n    </tr>\n    <tr>\n      <th>107</th>\n      <td>2019-11-23 09:09:59</td>\n      <td>1198166796643295233</td>\n      <td>I was joined by the National Chairman of the N...</td>\n      <td>1334</td>\n      <td>117</td>\n      <td>NaN</td>\n    </tr>\n    <tr>\n      <th>108</th>\n      <td>2019-11-23 09:09:04</td>\n      <td>1198166565004468225</td>\n      <td>Otumfuo Asantehene and I have always had a rel...</td>\n      <td>1848</td>\n      <td>196</td>\n      <td>NaN</td>\n    </tr>\n    <tr>\n      <th>109</th>\n      <td>2019-11-23 09:08:04</td>\n      <td>1198166312050155520</td>\n      <td>I had the honour of welcoming the Asantehene ,...</td>\n      <td>4965</td>\n      <td>397</td>\n      <td>NaN</td>\n    </tr>\n    <tr>\n      <th>110</th>\n      <td>2019-11-19 23:07:27</td>\n      <td>1196927999389642753</td>\n      <td>I delivered a lecture on ‘ Beyond Politics : A...</td>\n      <td>1037</td>\n      <td>119</td>\n      <td>NaN</td>\n    </tr>\n  </tbody>\n</table>\n<p>111 rows × 6 columns</p>\n</div>"
     },
     "execution_count": 22,
     "metadata": {},
     "output_type": "execute_result"
    }
   ],
   "source": [
    "# # # read the csv file and create data frames\n",
    "data = pd.read_csv('NDC/PresTimeLineTweets.csv', encoding='utf-16')\n",
    "data  # this show the data in jupyter notebook"
   ],
   "metadata": {
    "collapsed": false,
    "pycharm": {
     "name": "#%%\n"
    }
   }
  },
  {
   "cell_type": "code",
   "execution_count": 23,
   "outputs": [],
   "source": [
    "# # # create a function to clean all the text of the tweets\n",
    "def cleanText(text):\n",
    "    text = re.sub(r'@[A-Za-z0-9]+', '', text)  # remove the @ delimiter\n",
    "    text = re.sub(r'#', '', text)  # remove all hash tags\n",
    "    text = re.sub(r'RT[\\s]+', '', text)  # remove the text RT for re-tweets\n",
    "    text = re.sub(r':[\\s]+', '', text)  # remove the text : (colons)\n",
    "    text = re.sub(r'https?:\\/\\/\\S+', '', text)  # remove all urls\n",
    "\n",
    "    return text  # return the clean data"
   ],
   "metadata": {
    "collapsed": false,
    "pycharm": {
     "name": "#%%\n"
    }
   }
  },
  {
   "cell_type": "code",
   "execution_count": 24,
   "outputs": [
    {
     "data": {
      "text/plain": "                    Date                   Id  \\\n0    2020-05-09 07:58:50  1259030051972157441   \n1    2020-05-09 07:58:32  1259029975153377280   \n2    2020-05-09 07:58:31  1259029972313952256   \n3    2020-05-08 11:30:43  1258720984321966080   \n4    2020-05-06 09:47:47  1257970305374584835   \n..                   ...                  ...   \n106  2019-11-23 10:03:58  1198180380710494208   \n107  2019-11-23 09:09:59  1198166796643295233   \n108  2019-11-23 09:09:04  1198166565004468225   \n109  2019-11-23 09:08:04  1198166312050155520   \n110  2019-11-19 23:07:27  1196927999389642753   \n\n                                                  Text  Likes  Re-Tweets  \\\n0    RT : It ’ s been a year since Nana Addo ordere...      0        106   \n1    I want to encourage you to protect yourself . ...    971        160   \n2    From 3,091 to 4,012 #COVID19 cases within 24 h...   1716        267   \n3    I invite you to join the call to GET INVOLVED ...   2836        370   \n4    Happy 70th Birthday Asantehene Otumfuo Osei Tu...   6991        613   \n..                                                 ...    ...        ...   \n106  With Asantehene Otumfuo Osei Tutu II https://t...    655         58   \n107  I was joined by the National Chairman of the N...   1334        117   \n108  Otumfuo Asantehene and I have always had a rel...   1848        196   \n109  I had the honour of welcoming the Asantehene ,...   4965        397   \n110  I delivered a lecture on ‘ Beyond Politics : A...   1037        119   \n\n     Location  \n0         NaN  \n1         NaN  \n2         NaN  \n3         NaN  \n4         NaN  \n..        ...  \n106       NaN  \n107       NaN  \n108       NaN  \n109       NaN  \n110       NaN  \n\n[111 rows x 6 columns]",
      "text/html": "<div>\n<style scoped>\n    .dataframe tbody tr th:only-of-type {\n        vertical-align: middle;\n    }\n\n    .dataframe tbody tr th {\n        vertical-align: top;\n    }\n\n    .dataframe thead th {\n        text-align: right;\n    }\n</style>\n<table border=\"1\" class=\"dataframe\">\n  <thead>\n    <tr style=\"text-align: right;\">\n      <th></th>\n      <th>Date</th>\n      <th>Id</th>\n      <th>Text</th>\n      <th>Likes</th>\n      <th>Re-Tweets</th>\n      <th>Location</th>\n    </tr>\n  </thead>\n  <tbody>\n    <tr>\n      <th>0</th>\n      <td>2020-05-09 07:58:50</td>\n      <td>1259030051972157441</td>\n      <td>RT : It ’ s been a year since Nana Addo ordere...</td>\n      <td>0</td>\n      <td>106</td>\n      <td>NaN</td>\n    </tr>\n    <tr>\n      <th>1</th>\n      <td>2020-05-09 07:58:32</td>\n      <td>1259029975153377280</td>\n      <td>I want to encourage you to protect yourself . ...</td>\n      <td>971</td>\n      <td>160</td>\n      <td>NaN</td>\n    </tr>\n    <tr>\n      <th>2</th>\n      <td>2020-05-09 07:58:31</td>\n      <td>1259029972313952256</td>\n      <td>From 3,091 to 4,012 #COVID19 cases within 24 h...</td>\n      <td>1716</td>\n      <td>267</td>\n      <td>NaN</td>\n    </tr>\n    <tr>\n      <th>3</th>\n      <td>2020-05-08 11:30:43</td>\n      <td>1258720984321966080</td>\n      <td>I invite you to join the call to GET INVOLVED ...</td>\n      <td>2836</td>\n      <td>370</td>\n      <td>NaN</td>\n    </tr>\n    <tr>\n      <th>4</th>\n      <td>2020-05-06 09:47:47</td>\n      <td>1257970305374584835</td>\n      <td>Happy 70th Birthday Asantehene Otumfuo Osei Tu...</td>\n      <td>6991</td>\n      <td>613</td>\n      <td>NaN</td>\n    </tr>\n    <tr>\n      <th>...</th>\n      <td>...</td>\n      <td>...</td>\n      <td>...</td>\n      <td>...</td>\n      <td>...</td>\n      <td>...</td>\n    </tr>\n    <tr>\n      <th>106</th>\n      <td>2019-11-23 10:03:58</td>\n      <td>1198180380710494208</td>\n      <td>With Asantehene Otumfuo Osei Tutu II https://t...</td>\n      <td>655</td>\n      <td>58</td>\n      <td>NaN</td>\n    </tr>\n    <tr>\n      <th>107</th>\n      <td>2019-11-23 09:09:59</td>\n      <td>1198166796643295233</td>\n      <td>I was joined by the National Chairman of the N...</td>\n      <td>1334</td>\n      <td>117</td>\n      <td>NaN</td>\n    </tr>\n    <tr>\n      <th>108</th>\n      <td>2019-11-23 09:09:04</td>\n      <td>1198166565004468225</td>\n      <td>Otumfuo Asantehene and I have always had a rel...</td>\n      <td>1848</td>\n      <td>196</td>\n      <td>NaN</td>\n    </tr>\n    <tr>\n      <th>109</th>\n      <td>2019-11-23 09:08:04</td>\n      <td>1198166312050155520</td>\n      <td>I had the honour of welcoming the Asantehene ,...</td>\n      <td>4965</td>\n      <td>397</td>\n      <td>NaN</td>\n    </tr>\n    <tr>\n      <th>110</th>\n      <td>2019-11-19 23:07:27</td>\n      <td>1196927999389642753</td>\n      <td>I delivered a lecture on ‘ Beyond Politics : A...</td>\n      <td>1037</td>\n      <td>119</td>\n      <td>NaN</td>\n    </tr>\n  </tbody>\n</table>\n<p>111 rows × 6 columns</p>\n</div>"
     },
     "execution_count": 24,
     "metadata": {},
     "output_type": "execute_result"
    }
   ],
   "source": [
    "# # # create a new data from the data to apply the cleaning function to\n",
    "new_data = data\n",
    "new_data"
   ],
   "metadata": {
    "collapsed": false,
    "pycharm": {
     "name": "#%%\n"
    }
   }
  },
  {
   "cell_type": "code",
   "execution_count": 25,
   "outputs": [
    {
     "data": {
      "text/plain": "                    Date                   Id  \\\n0    2020-05-09 07:58:50  1259030051972157441   \n1    2020-05-09 07:58:32  1259029975153377280   \n2    2020-05-09 07:58:31  1259029972313952256   \n3    2020-05-08 11:30:43  1258720984321966080   \n4    2020-05-06 09:47:47  1257970305374584835   \n..                   ...                  ...   \n106  2019-11-23 10:03:58  1198180380710494208   \n107  2019-11-23 09:09:59  1198166796643295233   \n108  2019-11-23 09:09:04  1198166565004468225   \n109  2019-11-23 09:08:04  1198166312050155520   \n110  2019-11-19 23:07:27  1196927999389642753   \n\n                                                  Text  Likes  Re-Tweets  \\\n0    It ’ s been a year since Nana Addo ordered the...      0        106   \n1    I want to encourage you to protect yourself . ...    971        160   \n2    From 3,091 to 4,012 COVID19 cases within 24 ho...   1716        267   \n3    I invite you to join the call to GET INVOLVED ...   2836        370   \n4    Happy 70th Birthday Asantehene Otumfuo Osei Tu...   6991        613   \n..                                                 ...    ...        ...   \n106              With Asantehene Otumfuo Osei Tutu II     655         58   \n107  I was joined by the National Chairman of the N...   1334        117   \n108  Otumfuo Asantehene and I have always had a rel...   1848        196   \n109  I had the honour of welcoming the Asantehene ,...   4965        397   \n110  I delivered a lecture on ‘ Beyond Politics An ...   1037        119   \n\n     Location  \n0         NaN  \n1         NaN  \n2         NaN  \n3         NaN  \n4         NaN  \n..        ...  \n106       NaN  \n107       NaN  \n108       NaN  \n109       NaN  \n110       NaN  \n\n[111 rows x 6 columns]",
      "text/html": "<div>\n<style scoped>\n    .dataframe tbody tr th:only-of-type {\n        vertical-align: middle;\n    }\n\n    .dataframe tbody tr th {\n        vertical-align: top;\n    }\n\n    .dataframe thead th {\n        text-align: right;\n    }\n</style>\n<table border=\"1\" class=\"dataframe\">\n  <thead>\n    <tr style=\"text-align: right;\">\n      <th></th>\n      <th>Date</th>\n      <th>Id</th>\n      <th>Text</th>\n      <th>Likes</th>\n      <th>Re-Tweets</th>\n      <th>Location</th>\n    </tr>\n  </thead>\n  <tbody>\n    <tr>\n      <th>0</th>\n      <td>2020-05-09 07:58:50</td>\n      <td>1259030051972157441</td>\n      <td>It ’ s been a year since Nana Addo ordered the...</td>\n      <td>0</td>\n      <td>106</td>\n      <td>NaN</td>\n    </tr>\n    <tr>\n      <th>1</th>\n      <td>2020-05-09 07:58:32</td>\n      <td>1259029975153377280</td>\n      <td>I want to encourage you to protect yourself . ...</td>\n      <td>971</td>\n      <td>160</td>\n      <td>NaN</td>\n    </tr>\n    <tr>\n      <th>2</th>\n      <td>2020-05-09 07:58:31</td>\n      <td>1259029972313952256</td>\n      <td>From 3,091 to 4,012 COVID19 cases within 24 ho...</td>\n      <td>1716</td>\n      <td>267</td>\n      <td>NaN</td>\n    </tr>\n    <tr>\n      <th>3</th>\n      <td>2020-05-08 11:30:43</td>\n      <td>1258720984321966080</td>\n      <td>I invite you to join the call to GET INVOLVED ...</td>\n      <td>2836</td>\n      <td>370</td>\n      <td>NaN</td>\n    </tr>\n    <tr>\n      <th>4</th>\n      <td>2020-05-06 09:47:47</td>\n      <td>1257970305374584835</td>\n      <td>Happy 70th Birthday Asantehene Otumfuo Osei Tu...</td>\n      <td>6991</td>\n      <td>613</td>\n      <td>NaN</td>\n    </tr>\n    <tr>\n      <th>...</th>\n      <td>...</td>\n      <td>...</td>\n      <td>...</td>\n      <td>...</td>\n      <td>...</td>\n      <td>...</td>\n    </tr>\n    <tr>\n      <th>106</th>\n      <td>2019-11-23 10:03:58</td>\n      <td>1198180380710494208</td>\n      <td>With Asantehene Otumfuo Osei Tutu II</td>\n      <td>655</td>\n      <td>58</td>\n      <td>NaN</td>\n    </tr>\n    <tr>\n      <th>107</th>\n      <td>2019-11-23 09:09:59</td>\n      <td>1198166796643295233</td>\n      <td>I was joined by the National Chairman of the N...</td>\n      <td>1334</td>\n      <td>117</td>\n      <td>NaN</td>\n    </tr>\n    <tr>\n      <th>108</th>\n      <td>2019-11-23 09:09:04</td>\n      <td>1198166565004468225</td>\n      <td>Otumfuo Asantehene and I have always had a rel...</td>\n      <td>1848</td>\n      <td>196</td>\n      <td>NaN</td>\n    </tr>\n    <tr>\n      <th>109</th>\n      <td>2019-11-23 09:08:04</td>\n      <td>1198166312050155520</td>\n      <td>I had the honour of welcoming the Asantehene ,...</td>\n      <td>4965</td>\n      <td>397</td>\n      <td>NaN</td>\n    </tr>\n    <tr>\n      <th>110</th>\n      <td>2019-11-19 23:07:27</td>\n      <td>1196927999389642753</td>\n      <td>I delivered a lecture on ‘ Beyond Politics An ...</td>\n      <td>1037</td>\n      <td>119</td>\n      <td>NaN</td>\n    </tr>\n  </tbody>\n</table>\n<p>111 rows × 6 columns</p>\n</div>"
     },
     "execution_count": 25,
     "metadata": {},
     "output_type": "execute_result"
    }
   ],
   "source": [
    "# # # clean the data\n",
    "new_data['Text'] = new_data['Text'].apply(cleanText)\n",
    "new_data"
   ],
   "metadata": {
    "collapsed": false,
    "pycharm": {
     "name": "#%%\n"
    }
   }
  },
  {
   "cell_type": "code",
   "execution_count": 26,
   "outputs": [
    {
     "data": {
      "text/plain": "'It ’ s been a year since Nana Addo ordered the closure of and Radio XYZ , and followed up with Radio Tongu …'"
     },
     "execution_count": 26,
     "metadata": {},
     "output_type": "execute_result"
    }
   ],
   "source": [
    "new_data['Text'][0]"
   ],
   "metadata": {
    "collapsed": false,
    "pycharm": {
     "name": "#%%\n"
    }
   }
  },
  {
   "cell_type": "code",
   "execution_count": null,
   "outputs": [],
   "source": [
    "\n"
   ],
   "metadata": {
    "collapsed": false,
    "pycharm": {
     "name": "#%%\n"
    }
   }
  }
 ],
 "metadata": {
  "kernelspec": {
   "display_name": "Python 3",
   "language": "python",
   "name": "python3"
  },
  "language_info": {
   "codemirror_mode": {
    "name": "ipython",
    "version": 2
   },
   "file_extension": ".py",
   "mimetype": "text/x-python",
   "name": "python",
   "nbconvert_exporter": "python",
   "pygments_lexer": "ipython2",
   "version": "2.7.6"
  }
 },
 "nbformat": 4,
 "nbformat_minor": 0
}