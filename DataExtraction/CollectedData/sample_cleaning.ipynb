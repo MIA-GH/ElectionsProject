{
 "cells": [
  {
   "cell_type": "code",
   "execution_count": 2,
   "metadata": {
    "collapsed": true
   },
   "outputs": [
    {
     "name": "stdout",
     "output_type": "stream",
     "text": [
      "done\n"
     ]
    }
   ],
   "source": [
    "# # # import the required libraries\n",
    "\n",
    "import pandas as pd\n",
    "import re\n",
    "import csv\n",
    "print('done')"
   ]
  },
  {
   "cell_type": "code",
   "execution_count": 3,
   "metadata": {
    "pycharm": {
     "name": "#%%\n"
    }
   },
   "outputs": [
    {
     "data": {
      "text/plain": "                    Date                   Id  \\\n0    2020-05-09 07:58:50  1259030051972157441   \n1    2020-05-09 07:58:32  1259029975153377280   \n2    2020-05-09 07:58:31  1259029972313952256   \n3    2020-05-08 11:30:43  1258720984321966080   \n4    2020-05-06 09:47:47  1257970305374584835   \n..                   ...                  ...   \n106  2019-11-23 10:03:58  1198180380710494208   \n107  2019-11-23 09:09:59  1198166796643295233   \n108  2019-11-23 09:09:04  1198166565004468225   \n109  2019-11-23 09:08:04  1198166312050155520   \n110  2019-11-19 23:07:27  1196927999389642753   \n\n                                                  Text  Likes  Re-Tweets  \\\n0    RT : It ’ s been a year since Nana Addo ordere...      0        106   \n1    I want to encourage you to protect yourself . ...    971        160   \n2    From 3,091 to 4,012 #COVID19 cases within 24 h...   1716        267   \n3    I invite you to join the call to GET INVOLVED ...   2836        370   \n4    Happy 70th Birthday Asantehene Otumfuo Osei Tu...   6991        613   \n..                                                 ...    ...        ...   \n106  With Asantehene Otumfuo Osei Tutu II https://t...    655         58   \n107  I was joined by the National Chairman of the N...   1334        117   \n108  Otumfuo Asantehene and I have always had a rel...   1848        196   \n109  I had the honour of welcoming the Asantehene ,...   4965        397   \n110  I delivered a lecture on ‘ Beyond Politics : A...   1037        119   \n\n     Location  \n0         NaN  \n1         NaN  \n2         NaN  \n3         NaN  \n4         NaN  \n..        ...  \n106       NaN  \n107       NaN  \n108       NaN  \n109       NaN  \n110       NaN  \n\n[111 rows x 6 columns]",
      "text/html": "<div>\n<style scoped>\n    .dataframe tbody tr th:only-of-type {\n        vertical-align: middle;\n    }\n\n    .dataframe tbody tr th {\n        vertical-align: top;\n    }\n\n    .dataframe thead th {\n        text-align: right;\n    }\n</style>\n<table border=\"1\" class=\"dataframe\">\n  <thead>\n    <tr style=\"text-align: right;\">\n      <th></th>\n      <th>Date</th>\n      <th>Id</th>\n      <th>Text</th>\n      <th>Likes</th>\n      <th>Re-Tweets</th>\n      <th>Location</th>\n    </tr>\n  </thead>\n  <tbody>\n    <tr>\n      <th>0</th>\n      <td>2020-05-09 07:58:50</td>\n      <td>1259030051972157441</td>\n      <td>RT : It ’ s been a year since Nana Addo ordere...</td>\n      <td>0</td>\n      <td>106</td>\n      <td>NaN</td>\n    </tr>\n    <tr>\n      <th>1</th>\n      <td>2020-05-09 07:58:32</td>\n      <td>1259029975153377280</td>\n      <td>I want to encourage you to protect yourself . ...</td>\n      <td>971</td>\n      <td>160</td>\n      <td>NaN</td>\n    </tr>\n    <tr>\n      <th>2</th>\n      <td>2020-05-09 07:58:31</td>\n      <td>1259029972313952256</td>\n      <td>From 3,091 to 4,012 #COVID19 cases within 24 h...</td>\n      <td>1716</td>\n      <td>267</td>\n      <td>NaN</td>\n    </tr>\n    <tr>\n      <th>3</th>\n      <td>2020-05-08 11:30:43</td>\n      <td>1258720984321966080</td>\n      <td>I invite you to join the call to GET INVOLVED ...</td>\n      <td>2836</td>\n      <td>370</td>\n      <td>NaN</td>\n    </tr>\n    <tr>\n      <th>4</th>\n      <td>2020-05-06 09:47:47</td>\n      <td>1257970305374584835</td>\n      <td>Happy 70th Birthday Asantehene Otumfuo Osei Tu...</td>\n      <td>6991</td>\n      <td>613</td>\n      <td>NaN</td>\n    </tr>\n    <tr>\n      <th>...</th>\n      <td>...</td>\n      <td>...</td>\n      <td>...</td>\n      <td>...</td>\n      <td>...</td>\n      <td>...</td>\n    </tr>\n    <tr>\n      <th>106</th>\n      <td>2019-11-23 10:03:58</td>\n      <td>1198180380710494208</td>\n      <td>With Asantehene Otumfuo Osei Tutu II https://t...</td>\n      <td>655</td>\n      <td>58</td>\n      <td>NaN</td>\n    </tr>\n    <tr>\n      <th>107</th>\n      <td>2019-11-23 09:09:59</td>\n      <td>1198166796643295233</td>\n      <td>I was joined by the National Chairman of the N...</td>\n      <td>1334</td>\n      <td>117</td>\n      <td>NaN</td>\n    </tr>\n    <tr>\n      <th>108</th>\n      <td>2019-11-23 09:09:04</td>\n      <td>1198166565004468225</td>\n      <td>Otumfuo Asantehene and I have always had a rel...</td>\n      <td>1848</td>\n      <td>196</td>\n      <td>NaN</td>\n    </tr>\n    <tr>\n      <th>109</th>\n      <td>2019-11-23 09:08:04</td>\n      <td>1198166312050155520</td>\n      <td>I had the honour of welcoming the Asantehene ,...</td>\n      <td>4965</td>\n      <td>397</td>\n      <td>NaN</td>\n    </tr>\n    <tr>\n      <th>110</th>\n      <td>2019-11-19 23:07:27</td>\n      <td>1196927999389642753</td>\n      <td>I delivered a lecture on ‘ Beyond Politics : A...</td>\n      <td>1037</td>\n      <td>119</td>\n      <td>NaN</td>\n    </tr>\n  </tbody>\n</table>\n<p>111 rows × 6 columns</p>\n</div>"
     },
     "execution_count": 3,
     "metadata": {},
     "output_type": "execute_result"
    }
   ],
   "source": [
    "# # # read the csv file and create data frames\n",
    "data = pd.read_csv('NDC/PresTimeLineTweets.csv', encoding='utf-16')\n",
    "data  # this show the data in jupyter notebook"
   ]
  },
  {
   "cell_type": "code",
   "execution_count": 4,
   "metadata": {
    "pycharm": {
     "name": "#%%\n"
    }
   },
   "outputs": [],
   "source": [
    "# # # create a function to clean all the text of the tweets\n",
    "def cleanText(text):\n",
    "    text = re.sub(r'@[A-Za-z0-9]+', '', text)  # remove the @ delimiter\n",
    "    text = re.sub(r'#', '', text)  # remove all hash tags\n",
    "    text = re.sub(r'RT[\\s]+', '', text)  # remove the text RT for re-tweets\n",
    "    text = re.sub(r':[\\s]+', '', text)  # remove the text : (colons)\n",
    "    text = re.sub(r'https?:\\/\\/\\S+', '', text)  # remove all urls\n",
    "\n",
    "    return text  # return the clean data"
   ]
  },
  {
   "cell_type": "code",
   "execution_count": 5,
   "metadata": {
    "pycharm": {
     "name": "#%%\n"
    }
   },
   "outputs": [
    {
     "data": {
      "text/plain": "                    Date                   Id  \\\n0    2020-05-09 07:58:50  1259030051972157441   \n1    2020-05-09 07:58:32  1259029975153377280   \n2    2020-05-09 07:58:31  1259029972313952256   \n3    2020-05-08 11:30:43  1258720984321966080   \n4    2020-05-06 09:47:47  1257970305374584835   \n..                   ...                  ...   \n106  2019-11-23 10:03:58  1198180380710494208   \n107  2019-11-23 09:09:59  1198166796643295233   \n108  2019-11-23 09:09:04  1198166565004468225   \n109  2019-11-23 09:08:04  1198166312050155520   \n110  2019-11-19 23:07:27  1196927999389642753   \n\n                                                  Text  Likes  Re-Tweets  \\\n0    RT : It ’ s been a year since Nana Addo ordere...      0        106   \n1    I want to encourage you to protect yourself . ...    971        160   \n2    From 3,091 to 4,012 #COVID19 cases within 24 h...   1716        267   \n3    I invite you to join the call to GET INVOLVED ...   2836        370   \n4    Happy 70th Birthday Asantehene Otumfuo Osei Tu...   6991        613   \n..                                                 ...    ...        ...   \n106  With Asantehene Otumfuo Osei Tutu II https://t...    655         58   \n107  I was joined by the National Chairman of the N...   1334        117   \n108  Otumfuo Asantehene and I have always had a rel...   1848        196   \n109  I had the honour of welcoming the Asantehene ,...   4965        397   \n110  I delivered a lecture on ‘ Beyond Politics : A...   1037        119   \n\n     Location  \n0         NaN  \n1         NaN  \n2         NaN  \n3         NaN  \n4         NaN  \n..        ...  \n106       NaN  \n107       NaN  \n108       NaN  \n109       NaN  \n110       NaN  \n\n[111 rows x 6 columns]",
      "text/html": "<div>\n<style scoped>\n    .dataframe tbody tr th:only-of-type {\n        vertical-align: middle;\n    }\n\n    .dataframe tbody tr th {\n        vertical-align: top;\n    }\n\n    .dataframe thead th {\n        text-align: right;\n    }\n</style>\n<table border=\"1\" class=\"dataframe\">\n  <thead>\n    <tr style=\"text-align: right;\">\n      <th></th>\n      <th>Date</th>\n      <th>Id</th>\n      <th>Text</th>\n      <th>Likes</th>\n      <th>Re-Tweets</th>\n      <th>Location</th>\n    </tr>\n  </thead>\n  <tbody>\n    <tr>\n      <th>0</th>\n      <td>2020-05-09 07:58:50</td>\n      <td>1259030051972157441</td>\n      <td>RT : It ’ s been a year since Nana Addo ordere...</td>\n      <td>0</td>\n      <td>106</td>\n      <td>NaN</td>\n    </tr>\n    <tr>\n      <th>1</th>\n      <td>2020-05-09 07:58:32</td>\n      <td>1259029975153377280</td>\n      <td>I want to encourage you to protect yourself . ...</td>\n      <td>971</td>\n      <td>160</td>\n      <td>NaN</td>\n    </tr>\n    <tr>\n      <th>2</th>\n      <td>2020-05-09 07:58:31</td>\n      <td>1259029972313952256</td>\n      <td>From 3,091 to 4,012 #COVID19 cases within 24 h...</td>\n      <td>1716</td>\n      <td>267</td>\n      <td>NaN</td>\n    </tr>\n    <tr>\n      <th>3</th>\n      <td>2020-05-08 11:30:43</td>\n      <td>1258720984321966080</td>\n      <td>I invite you to join the call to GET INVOLVED ...</td>\n      <td>2836</td>\n      <td>370</td>\n      <td>NaN</td>\n    </tr>\n    <tr>\n      <th>4</th>\n      <td>2020-05-06 09:47:47</td>\n      <td>1257970305374584835</td>\n      <td>Happy 70th Birthday Asantehene Otumfuo Osei Tu...</td>\n      <td>6991</td>\n      <td>613</td>\n      <td>NaN</td>\n    </tr>\n    <tr>\n      <th>...</th>\n      <td>...</td>\n      <td>...</td>\n      <td>...</td>\n      <td>...</td>\n      <td>...</td>\n      <td>...</td>\n    </tr>\n    <tr>\n      <th>106</th>\n      <td>2019-11-23 10:03:58</td>\n      <td>1198180380710494208</td>\n      <td>With Asantehene Otumfuo Osei Tutu II https://t...</td>\n      <td>655</td>\n      <td>58</td>\n      <td>NaN</td>\n    </tr>\n    <tr>\n      <th>107</th>\n      <td>2019-11-23 09:09:59</td>\n      <td>1198166796643295233</td>\n      <td>I was joined by the National Chairman of the N...</td>\n      <td>1334</td>\n      <td>117</td>\n      <td>NaN</td>\n    </tr>\n    <tr>\n      <th>108</th>\n      <td>2019-11-23 09:09:04</td>\n      <td>1198166565004468225</td>\n      <td>Otumfuo Asantehene and I have always had a rel...</td>\n      <td>1848</td>\n      <td>196</td>\n      <td>NaN</td>\n    </tr>\n    <tr>\n      <th>109</th>\n      <td>2019-11-23 09:08:04</td>\n      <td>1198166312050155520</td>\n      <td>I had the honour of welcoming the Asantehene ,...</td>\n      <td>4965</td>\n      <td>397</td>\n      <td>NaN</td>\n    </tr>\n    <tr>\n      <th>110</th>\n      <td>2019-11-19 23:07:27</td>\n      <td>1196927999389642753</td>\n      <td>I delivered a lecture on ‘ Beyond Politics : A...</td>\n      <td>1037</td>\n      <td>119</td>\n      <td>NaN</td>\n    </tr>\n  </tbody>\n</table>\n<p>111 rows × 6 columns</p>\n</div>"
     },
     "execution_count": 5,
     "metadata": {},
     "output_type": "execute_result"
    }
   ],
   "source": [
    "# # # create a new data from the data to apply the cleaning function to\n",
    "new_data = data\n",
    "new_data"
   ]
  },
  {
   "cell_type": "code",
   "execution_count": 6,
   "metadata": {
    "pycharm": {
     "name": "#%%\n"
    }
   },
   "outputs": [
    {
     "data": {
      "text/plain": "                    Date                   Id  \\\n0    2020-05-09 07:58:50  1259030051972157441   \n1    2020-05-09 07:58:32  1259029975153377280   \n2    2020-05-09 07:58:31  1259029972313952256   \n3    2020-05-08 11:30:43  1258720984321966080   \n4    2020-05-06 09:47:47  1257970305374584835   \n..                   ...                  ...   \n106  2019-11-23 10:03:58  1198180380710494208   \n107  2019-11-23 09:09:59  1198166796643295233   \n108  2019-11-23 09:09:04  1198166565004468225   \n109  2019-11-23 09:08:04  1198166312050155520   \n110  2019-11-19 23:07:27  1196927999389642753   \n\n                                                  Text  Likes  Re-Tweets  \\\n0    It ’ s been a year since Nana Addo ordered the...      0        106   \n1    I want to encourage you to protect yourself . ...    971        160   \n2    From 3,091 to 4,012 COVID19 cases within 24 ho...   1716        267   \n3    I invite you to join the call to GET INVOLVED ...   2836        370   \n4    Happy 70th Birthday Asantehene Otumfuo Osei Tu...   6991        613   \n..                                                 ...    ...        ...   \n106              With Asantehene Otumfuo Osei Tutu II     655         58   \n107  I was joined by the National Chairman of the N...   1334        117   \n108  Otumfuo Asantehene and I have always had a rel...   1848        196   \n109  I had the honour of welcoming the Asantehene ,...   4965        397   \n110  I delivered a lecture on ‘ Beyond Politics An ...   1037        119   \n\n     Location  \n0         NaN  \n1         NaN  \n2         NaN  \n3         NaN  \n4         NaN  \n..        ...  \n106       NaN  \n107       NaN  \n108       NaN  \n109       NaN  \n110       NaN  \n\n[111 rows x 6 columns]",
      "text/html": "<div>\n<style scoped>\n    .dataframe tbody tr th:only-of-type {\n        vertical-align: middle;\n    }\n\n    .dataframe tbody tr th {\n        vertical-align: top;\n    }\n\n    .dataframe thead th {\n        text-align: right;\n    }\n</style>\n<table border=\"1\" class=\"dataframe\">\n  <thead>\n    <tr style=\"text-align: right;\">\n      <th></th>\n      <th>Date</th>\n      <th>Id</th>\n      <th>Text</th>\n      <th>Likes</th>\n      <th>Re-Tweets</th>\n      <th>Location</th>\n    </tr>\n  </thead>\n  <tbody>\n    <tr>\n      <th>0</th>\n      <td>2020-05-09 07:58:50</td>\n      <td>1259030051972157441</td>\n      <td>It ’ s been a year since Nana Addo ordered the...</td>\n      <td>0</td>\n      <td>106</td>\n      <td>NaN</td>\n    </tr>\n    <tr>\n      <th>1</th>\n      <td>2020-05-09 07:58:32</td>\n      <td>1259029975153377280</td>\n      <td>I want to encourage you to protect yourself . ...</td>\n      <td>971</td>\n      <td>160</td>\n      <td>NaN</td>\n    </tr>\n    <tr>\n      <th>2</th>\n      <td>2020-05-09 07:58:31</td>\n      <td>1259029972313952256</td>\n      <td>From 3,091 to 4,012 COVID19 cases within 24 ho...</td>\n      <td>1716</td>\n      <td>267</td>\n      <td>NaN</td>\n    </tr>\n    <tr>\n      <th>3</th>\n      <td>2020-05-08 11:30:43</td>\n      <td>1258720984321966080</td>\n      <td>I invite you to join the call to GET INVOLVED ...</td>\n      <td>2836</td>\n      <td>370</td>\n      <td>NaN</td>\n    </tr>\n    <tr>\n      <th>4</th>\n      <td>2020-05-06 09:47:47</td>\n      <td>1257970305374584835</td>\n      <td>Happy 70th Birthday Asantehene Otumfuo Osei Tu...</td>\n      <td>6991</td>\n      <td>613</td>\n      <td>NaN</td>\n    </tr>\n    <tr>\n      <th>...</th>\n      <td>...</td>\n      <td>...</td>\n      <td>...</td>\n      <td>...</td>\n      <td>...</td>\n      <td>...</td>\n    </tr>\n    <tr>\n      <th>106</th>\n      <td>2019-11-23 10:03:58</td>\n      <td>1198180380710494208</td>\n      <td>With Asantehene Otumfuo Osei Tutu II</td>\n      <td>655</td>\n      <td>58</td>\n      <td>NaN</td>\n    </tr>\n    <tr>\n      <th>107</th>\n      <td>2019-11-23 09:09:59</td>\n      <td>1198166796643295233</td>\n      <td>I was joined by the National Chairman of the N...</td>\n      <td>1334</td>\n      <td>117</td>\n      <td>NaN</td>\n    </tr>\n    <tr>\n      <th>108</th>\n      <td>2019-11-23 09:09:04</td>\n      <td>1198166565004468225</td>\n      <td>Otumfuo Asantehene and I have always had a rel...</td>\n      <td>1848</td>\n      <td>196</td>\n      <td>NaN</td>\n    </tr>\n    <tr>\n      <th>109</th>\n      <td>2019-11-23 09:08:04</td>\n      <td>1198166312050155520</td>\n      <td>I had the honour of welcoming the Asantehene ,...</td>\n      <td>4965</td>\n      <td>397</td>\n      <td>NaN</td>\n    </tr>\n    <tr>\n      <th>110</th>\n      <td>2019-11-19 23:07:27</td>\n      <td>1196927999389642753</td>\n      <td>I delivered a lecture on ‘ Beyond Politics An ...</td>\n      <td>1037</td>\n      <td>119</td>\n      <td>NaN</td>\n    </tr>\n  </tbody>\n</table>\n<p>111 rows × 6 columns</p>\n</div>"
     },
     "execution_count": 6,
     "metadata": {},
     "output_type": "execute_result"
    }
   ],
   "source": [
    "# # # clean the data\n",
    "new_data['Text'] = new_data['Text'].apply(cleanText)\n",
    "new_data"
   ]
  },
  {
   "cell_type": "code",
   "execution_count": 7,
   "metadata": {
    "pycharm": {
     "name": "#%%\n"
    }
   },
   "outputs": [
    {
     "data": {
      "text/plain": "'It ’ s been a year since Nana Addo ordered the closure of and Radio XYZ , and followed up with Radio Tongu …'"
     },
     "execution_count": 7,
     "metadata": {},
     "output_type": "execute_result"
    }
   ],
   "source": [
    "new_data['Text'][0]\n"
   ]
  },
  {
   "cell_type": "code",
   "execution_count": 8,
   "outputs": [
    {
     "data": {
      "text/plain": "6"
     },
     "execution_count": 8,
     "metadata": {},
     "output_type": "execute_result"
    }
   ],
   "source": [
    "csvFile = open('collated_ndc_tweets.csv', 'a', encoding=\"utf-16\")  # ../../../CollectedData/NDC/Pres\n",
    "csvWriter = csv.writer(csvFile)\n",
    "csvWriter.writerow([\n",
    "    \"Text\"\n",
    "])"
   ],
   "metadata": {
    "collapsed": false,
    "pycharm": {
     "name": "#%%\n"
    }
   }
  },
  {
   "cell_type": "code",
   "execution_count": 9,
   "outputs": [],
   "source": [
    "def write_to_file(text):\n",
    "    csvWriter.writerow([\n",
    "                text\n",
    "            ])"
   ],
   "metadata": {
    "collapsed": false,
    "pycharm": {
     "name": "#%%\n"
    }
   }
  },
  {
   "cell_type": "code",
   "execution_count": 10,
   "outputs": [
    {
     "data": {
      "text/plain": "0      None\n1      None\n2      None\n3      None\n4      None\n       ... \n106    None\n107    None\n108    None\n109    None\n110    None\nName: Text, Length: 111, dtype: object"
     },
     "execution_count": 10,
     "metadata": {},
     "output_type": "execute_result"
    }
   ],
   "source": [
    "new_data['Text'].apply(write_to_file)\n"
   ],
   "metadata": {
    "collapsed": false,
    "pycharm": {
     "name": "#%%\n"
    }
   }
  },
  {
   "cell_type": "code",
   "execution_count": 11,
   "outputs": [
    {
     "data": {
      "text/plain": "17"
     },
     "execution_count": 11,
     "metadata": {},
     "output_type": "execute_result"
    }
   ],
   "source": [
    "csvFileLike = open('collated_ndc_Likes_and_re_tweets.csv', 'a', encoding=\"utf-16\")  # ../../../CollectedData/NDC/Pres\n",
    "csvFileLike = csv.writer(csvFileLike)\n",
    "csvFileLike.writerow([\n",
    "    \"likes\", \"Re-Tweets\"\n",
    "])\n"
   ],
   "metadata": {
    "collapsed": false,
    "pycharm": {
     "name": "#%%\n"
    }
   }
  },
  {
   "cell_type": "code",
   "execution_count": 12,
   "outputs": [],
   "source": [
    "def write_likes_to_file(stats):\n",
    "    csvWriter.writerow([\n",
    "                stats\n",
    "            ])"
   ],
   "metadata": {
    "collapsed": false,
    "pycharm": {
     "name": "#%%\n"
    }
   }
  },
  {
   "cell_type": "code",
   "execution_count": 1,
   "outputs": [],
   "source": [
    "import pandas as pd"
   ],
   "metadata": {
    "collapsed": false,
    "pycharm": {
     "name": "#%%\n"
    }
   }
  },
  {
   "cell_type": "code",
   "execution_count": 3,
   "outputs": [
    {
     "ename": "UnicodeDecodeError",
     "evalue": "'utf-8' codec can't decode byte 0xff in position 0: invalid start byte",
     "output_type": "error",
     "traceback": [
      "\u001B[1;31m---------------------------------------------------------------------------\u001B[0m",
      "\u001B[1;31mUnicodeDecodeError\u001B[0m                        Traceback (most recent call last)",
      "\u001B[1;32m<ipython-input-3-30c889da8f85>\u001B[0m in \u001B[0;36m<module>\u001B[1;34m\u001B[0m\n\u001B[1;32m----> 1\u001B[1;33m \u001B[0mdart\u001B[0m \u001B[1;33m=\u001B[0m \u001B[0mpd\u001B[0m\u001B[1;33m.\u001B[0m\u001B[0mread_csv\u001B[0m\u001B[1;33m(\u001B[0m\u001B[1;34m'collated_ndc_tweets.csv'\u001B[0m\u001B[1;33m)\u001B[0m\u001B[1;33m\u001B[0m\u001B[1;33m\u001B[0m\u001B[0m\n\u001B[0m\u001B[0;32m      2\u001B[0m \u001B[0mdart\u001B[0m\u001B[1;33m\u001B[0m\u001B[1;33m\u001B[0m\u001B[0m\n\u001B[0;32m      3\u001B[0m \u001B[1;33m\u001B[0m\u001B[0m\n",
      "\u001B[1;32mc:\\users\\musah ibrahim ali\\appdata\\local\\programs\\python\\python37\\lib\\site-packages\\pandas\\io\\parsers.py\u001B[0m in \u001B[0;36mparser_f\u001B[1;34m(filepath_or_buffer, sep, delimiter, header, names, index_col, usecols, squeeze, prefix, mangle_dupe_cols, dtype, engine, converters, true_values, false_values, skipinitialspace, skiprows, skipfooter, nrows, na_values, keep_default_na, na_filter, verbose, skip_blank_lines, parse_dates, infer_datetime_format, keep_date_col, date_parser, dayfirst, cache_dates, iterator, chunksize, compression, thousands, decimal, lineterminator, quotechar, quoting, doublequote, escapechar, comment, encoding, dialect, error_bad_lines, warn_bad_lines, delim_whitespace, low_memory, memory_map, float_precision)\u001B[0m\n\u001B[0;32m    674\u001B[0m         )\n\u001B[0;32m    675\u001B[0m \u001B[1;33m\u001B[0m\u001B[0m\n\u001B[1;32m--> 676\u001B[1;33m         \u001B[1;32mreturn\u001B[0m \u001B[0m_read\u001B[0m\u001B[1;33m(\u001B[0m\u001B[0mfilepath_or_buffer\u001B[0m\u001B[1;33m,\u001B[0m \u001B[0mkwds\u001B[0m\u001B[1;33m)\u001B[0m\u001B[1;33m\u001B[0m\u001B[1;33m\u001B[0m\u001B[0m\n\u001B[0m\u001B[0;32m    677\u001B[0m \u001B[1;33m\u001B[0m\u001B[0m\n\u001B[0;32m    678\u001B[0m     \u001B[0mparser_f\u001B[0m\u001B[1;33m.\u001B[0m\u001B[0m__name__\u001B[0m \u001B[1;33m=\u001B[0m \u001B[0mname\u001B[0m\u001B[1;33m\u001B[0m\u001B[1;33m\u001B[0m\u001B[0m\n",
      "\u001B[1;32mc:\\users\\musah ibrahim ali\\appdata\\local\\programs\\python\\python37\\lib\\site-packages\\pandas\\io\\parsers.py\u001B[0m in \u001B[0;36m_read\u001B[1;34m(filepath_or_buffer, kwds)\u001B[0m\n\u001B[0;32m    446\u001B[0m \u001B[1;33m\u001B[0m\u001B[0m\n\u001B[0;32m    447\u001B[0m     \u001B[1;31m# Create the parser.\u001B[0m\u001B[1;33m\u001B[0m\u001B[1;33m\u001B[0m\u001B[1;33m\u001B[0m\u001B[0m\n\u001B[1;32m--> 448\u001B[1;33m     \u001B[0mparser\u001B[0m \u001B[1;33m=\u001B[0m \u001B[0mTextFileReader\u001B[0m\u001B[1;33m(\u001B[0m\u001B[0mfp_or_buf\u001B[0m\u001B[1;33m,\u001B[0m \u001B[1;33m**\u001B[0m\u001B[0mkwds\u001B[0m\u001B[1;33m)\u001B[0m\u001B[1;33m\u001B[0m\u001B[1;33m\u001B[0m\u001B[0m\n\u001B[0m\u001B[0;32m    449\u001B[0m \u001B[1;33m\u001B[0m\u001B[0m\n\u001B[0;32m    450\u001B[0m     \u001B[1;32mif\u001B[0m \u001B[0mchunksize\u001B[0m \u001B[1;32mor\u001B[0m \u001B[0miterator\u001B[0m\u001B[1;33m:\u001B[0m\u001B[1;33m\u001B[0m\u001B[1;33m\u001B[0m\u001B[0m\n",
      "\u001B[1;32mc:\\users\\musah ibrahim ali\\appdata\\local\\programs\\python\\python37\\lib\\site-packages\\pandas\\io\\parsers.py\u001B[0m in \u001B[0;36m__init__\u001B[1;34m(self, f, engine, **kwds)\u001B[0m\n\u001B[0;32m    878\u001B[0m             \u001B[0mself\u001B[0m\u001B[1;33m.\u001B[0m\u001B[0moptions\u001B[0m\u001B[1;33m[\u001B[0m\u001B[1;34m\"has_index_names\"\u001B[0m\u001B[1;33m]\u001B[0m \u001B[1;33m=\u001B[0m \u001B[0mkwds\u001B[0m\u001B[1;33m[\u001B[0m\u001B[1;34m\"has_index_names\"\u001B[0m\u001B[1;33m]\u001B[0m\u001B[1;33m\u001B[0m\u001B[1;33m\u001B[0m\u001B[0m\n\u001B[0;32m    879\u001B[0m \u001B[1;33m\u001B[0m\u001B[0m\n\u001B[1;32m--> 880\u001B[1;33m         \u001B[0mself\u001B[0m\u001B[1;33m.\u001B[0m\u001B[0m_make_engine\u001B[0m\u001B[1;33m(\u001B[0m\u001B[0mself\u001B[0m\u001B[1;33m.\u001B[0m\u001B[0mengine\u001B[0m\u001B[1;33m)\u001B[0m\u001B[1;33m\u001B[0m\u001B[1;33m\u001B[0m\u001B[0m\n\u001B[0m\u001B[0;32m    881\u001B[0m \u001B[1;33m\u001B[0m\u001B[0m\n\u001B[0;32m    882\u001B[0m     \u001B[1;32mdef\u001B[0m \u001B[0mclose\u001B[0m\u001B[1;33m(\u001B[0m\u001B[0mself\u001B[0m\u001B[1;33m)\u001B[0m\u001B[1;33m:\u001B[0m\u001B[1;33m\u001B[0m\u001B[1;33m\u001B[0m\u001B[0m\n",
      "\u001B[1;32mc:\\users\\musah ibrahim ali\\appdata\\local\\programs\\python\\python37\\lib\\site-packages\\pandas\\io\\parsers.py\u001B[0m in \u001B[0;36m_make_engine\u001B[1;34m(self, engine)\u001B[0m\n\u001B[0;32m   1112\u001B[0m     \u001B[1;32mdef\u001B[0m \u001B[0m_make_engine\u001B[0m\u001B[1;33m(\u001B[0m\u001B[0mself\u001B[0m\u001B[1;33m,\u001B[0m \u001B[0mengine\u001B[0m\u001B[1;33m=\u001B[0m\u001B[1;34m\"c\"\u001B[0m\u001B[1;33m)\u001B[0m\u001B[1;33m:\u001B[0m\u001B[1;33m\u001B[0m\u001B[1;33m\u001B[0m\u001B[0m\n\u001B[0;32m   1113\u001B[0m         \u001B[1;32mif\u001B[0m \u001B[0mengine\u001B[0m \u001B[1;33m==\u001B[0m \u001B[1;34m\"c\"\u001B[0m\u001B[1;33m:\u001B[0m\u001B[1;33m\u001B[0m\u001B[1;33m\u001B[0m\u001B[0m\n\u001B[1;32m-> 1114\u001B[1;33m             \u001B[0mself\u001B[0m\u001B[1;33m.\u001B[0m\u001B[0m_engine\u001B[0m \u001B[1;33m=\u001B[0m \u001B[0mCParserWrapper\u001B[0m\u001B[1;33m(\u001B[0m\u001B[0mself\u001B[0m\u001B[1;33m.\u001B[0m\u001B[0mf\u001B[0m\u001B[1;33m,\u001B[0m \u001B[1;33m**\u001B[0m\u001B[0mself\u001B[0m\u001B[1;33m.\u001B[0m\u001B[0moptions\u001B[0m\u001B[1;33m)\u001B[0m\u001B[1;33m\u001B[0m\u001B[1;33m\u001B[0m\u001B[0m\n\u001B[0m\u001B[0;32m   1115\u001B[0m         \u001B[1;32melse\u001B[0m\u001B[1;33m:\u001B[0m\u001B[1;33m\u001B[0m\u001B[1;33m\u001B[0m\u001B[0m\n\u001B[0;32m   1116\u001B[0m             \u001B[1;32mif\u001B[0m \u001B[0mengine\u001B[0m \u001B[1;33m==\u001B[0m \u001B[1;34m\"python\"\u001B[0m\u001B[1;33m:\u001B[0m\u001B[1;33m\u001B[0m\u001B[1;33m\u001B[0m\u001B[0m\n",
      "\u001B[1;32mc:\\users\\musah ibrahim ali\\appdata\\local\\programs\\python\\python37\\lib\\site-packages\\pandas\\io\\parsers.py\u001B[0m in \u001B[0;36m__init__\u001B[1;34m(self, src, **kwds)\u001B[0m\n\u001B[0;32m   1889\u001B[0m         \u001B[0mkwds\u001B[0m\u001B[1;33m[\u001B[0m\u001B[1;34m\"usecols\"\u001B[0m\u001B[1;33m]\u001B[0m \u001B[1;33m=\u001B[0m \u001B[0mself\u001B[0m\u001B[1;33m.\u001B[0m\u001B[0musecols\u001B[0m\u001B[1;33m\u001B[0m\u001B[1;33m\u001B[0m\u001B[0m\n\u001B[0;32m   1890\u001B[0m \u001B[1;33m\u001B[0m\u001B[0m\n\u001B[1;32m-> 1891\u001B[1;33m         \u001B[0mself\u001B[0m\u001B[1;33m.\u001B[0m\u001B[0m_reader\u001B[0m \u001B[1;33m=\u001B[0m \u001B[0mparsers\u001B[0m\u001B[1;33m.\u001B[0m\u001B[0mTextReader\u001B[0m\u001B[1;33m(\u001B[0m\u001B[0msrc\u001B[0m\u001B[1;33m,\u001B[0m \u001B[1;33m**\u001B[0m\u001B[0mkwds\u001B[0m\u001B[1;33m)\u001B[0m\u001B[1;33m\u001B[0m\u001B[1;33m\u001B[0m\u001B[0m\n\u001B[0m\u001B[0;32m   1892\u001B[0m         \u001B[0mself\u001B[0m\u001B[1;33m.\u001B[0m\u001B[0munnamed_cols\u001B[0m \u001B[1;33m=\u001B[0m \u001B[0mself\u001B[0m\u001B[1;33m.\u001B[0m\u001B[0m_reader\u001B[0m\u001B[1;33m.\u001B[0m\u001B[0munnamed_cols\u001B[0m\u001B[1;33m\u001B[0m\u001B[1;33m\u001B[0m\u001B[0m\n\u001B[0;32m   1893\u001B[0m \u001B[1;33m\u001B[0m\u001B[0m\n",
      "\u001B[1;32mpandas\\_libs\\parsers.pyx\u001B[0m in \u001B[0;36mpandas._libs.parsers.TextReader.__cinit__\u001B[1;34m()\u001B[0m\n",
      "\u001B[1;32mpandas\\_libs\\parsers.pyx\u001B[0m in \u001B[0;36mpandas._libs.parsers.TextReader._get_header\u001B[1;34m()\u001B[0m\n",
      "\u001B[1;31mUnicodeDecodeError\u001B[0m: 'utf-8' codec can't decode byte 0xff in position 0: invalid start byte"
     ]
    }
   ],
   "source": [
    "dart = pd.read_csv('collated_ndc_tweets.csv')\n",
    "dart"
   ],
   "metadata": {
    "collapsed": false,
    "pycharm": {
     "name": "#%%\n"
    }
   }
  },
  {
   "cell_type": "code",
   "execution_count": null,
   "outputs": [],
   "source": [
    "\n"
   ],
   "metadata": {
    "collapsed": false,
    "pycharm": {
     "name": "#%%\n"
    }
   }
  }
 ],
 "metadata": {
  "kernelspec": {
   "display_name": "Python 3",
   "language": "python",
   "name": "python3"
  },
  "language_info": {
   "codemirror_mode": {
    "name": "ipython",
    "version": 3
   },
   "file_extension": ".py",
   "mimetype": "text/x-python",
   "name": "python",
   "nbconvert_exporter": "python",
   "pygments_lexer": "ipython3",
   "version": "3.7.7"
  }
 },
 "nbformat": 4,
 "nbformat_minor": 1
}