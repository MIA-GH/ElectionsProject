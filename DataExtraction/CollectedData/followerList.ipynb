{
 "cells": [
  {
   "cell_type": "code",
   "execution_count": 2,
   "metadata": {
    "collapsed": true
   },
   "outputs": [
    {
     "name": "stdout",
     "output_type": "stream",
     "text": [
      "done\n"
     ]
    }
   ],
   "source": [
    "import pandas as pd\n",
    "print(\"done\")"
   ]
  },
  {
   "cell_type": "code",
   "execution_count": 3,
   "outputs": [
    {
     "data": {
      "text/plain": "                     id      screen name  \\\n0             614748786          remade_   \n1              30848629  commonwealthsec   \n2            2438307378  MichelleNdiaye1   \n3    977171740748075009      AccraSpeaks   \n4            2559067837    NStottDespoja   \n..                  ...              ...   \n131           550108589    KgopediAfrika   \n132           255007239        lordmends   \n133           326203741      mandyakatse   \n134            50624773         MrAyitey   \n135           843382848      richamedeka   \n\n                                                  name  followers count  \\\n0                                   Osei-Owusu Francis             1557   \n1                                     The Commonwealth            90077   \n2    Michelle Ndiaye - Sense of responsability, ple...             3260   \n3                                          AccraSpeaks              873   \n4                                Natasha Stott Despoja            19238   \n..                                                 ...              ...   \n131                                    Kgopedi Lilokoe            76748   \n132                                         Lord Mends              797   \n133                                              Mandy              121   \n134                                      Claude Ayitey             1910   \n135                                    Richard Amedeka              103   \n\n     friends count  listed count           location  \n0             1186             3              Ghana  \n1             3758           970   The Commonwealth  \n2             2792            19  www.tanaforum.org  \n3              227             1       Accra, Ghana  \n4             1469           174                NaN  \n..             ...           ...                ...  \n131           1404            91         Jo'burg...  \n132            632             3     Accra Newtown   \n133             21             0                NaN  \n134            149            96       Accra, Ghana  \n135             26             0                NaN  \n\n[136 rows x 7 columns]",
      "text/html": "<div>\n<style scoped>\n    .dataframe tbody tr th:only-of-type {\n        vertical-align: middle;\n    }\n\n    .dataframe tbody tr th {\n        vertical-align: top;\n    }\n\n    .dataframe thead th {\n        text-align: right;\n    }\n</style>\n<table border=\"1\" class=\"dataframe\">\n  <thead>\n    <tr style=\"text-align: right;\">\n      <th></th>\n      <th>id</th>\n      <th>screen name</th>\n      <th>name</th>\n      <th>followers count</th>\n      <th>friends count</th>\n      <th>listed count</th>\n      <th>location</th>\n    </tr>\n  </thead>\n  <tbody>\n    <tr>\n      <th>0</th>\n      <td>614748786</td>\n      <td>remade_</td>\n      <td>Osei-Owusu Francis</td>\n      <td>1557</td>\n      <td>1186</td>\n      <td>3</td>\n      <td>Ghana</td>\n    </tr>\n    <tr>\n      <th>1</th>\n      <td>30848629</td>\n      <td>commonwealthsec</td>\n      <td>The Commonwealth</td>\n      <td>90077</td>\n      <td>3758</td>\n      <td>970</td>\n      <td>The Commonwealth</td>\n    </tr>\n    <tr>\n      <th>2</th>\n      <td>2438307378</td>\n      <td>MichelleNdiaye1</td>\n      <td>Michelle Ndiaye - Sense of responsability, ple...</td>\n      <td>3260</td>\n      <td>2792</td>\n      <td>19</td>\n      <td>www.tanaforum.org</td>\n    </tr>\n    <tr>\n      <th>3</th>\n      <td>977171740748075009</td>\n      <td>AccraSpeaks</td>\n      <td>AccraSpeaks</td>\n      <td>873</td>\n      <td>227</td>\n      <td>1</td>\n      <td>Accra, Ghana</td>\n    </tr>\n    <tr>\n      <th>4</th>\n      <td>2559067837</td>\n      <td>NStottDespoja</td>\n      <td>Natasha Stott Despoja</td>\n      <td>19238</td>\n      <td>1469</td>\n      <td>174</td>\n      <td>NaN</td>\n    </tr>\n    <tr>\n      <th>...</th>\n      <td>...</td>\n      <td>...</td>\n      <td>...</td>\n      <td>...</td>\n      <td>...</td>\n      <td>...</td>\n      <td>...</td>\n    </tr>\n    <tr>\n      <th>131</th>\n      <td>550108589</td>\n      <td>KgopediAfrika</td>\n      <td>Kgopedi Lilokoe</td>\n      <td>76748</td>\n      <td>1404</td>\n      <td>91</td>\n      <td>Jo'burg...</td>\n    </tr>\n    <tr>\n      <th>132</th>\n      <td>255007239</td>\n      <td>lordmends</td>\n      <td>Lord Mends</td>\n      <td>797</td>\n      <td>632</td>\n      <td>3</td>\n      <td>Accra Newtown</td>\n    </tr>\n    <tr>\n      <th>133</th>\n      <td>326203741</td>\n      <td>mandyakatse</td>\n      <td>Mandy</td>\n      <td>121</td>\n      <td>21</td>\n      <td>0</td>\n      <td>NaN</td>\n    </tr>\n    <tr>\n      <th>134</th>\n      <td>50624773</td>\n      <td>MrAyitey</td>\n      <td>Claude Ayitey</td>\n      <td>1910</td>\n      <td>149</td>\n      <td>96</td>\n      <td>Accra, Ghana</td>\n    </tr>\n    <tr>\n      <th>135</th>\n      <td>843382848</td>\n      <td>richamedeka</td>\n      <td>Richard Amedeka</td>\n      <td>103</td>\n      <td>26</td>\n      <td>0</td>\n      <td>NaN</td>\n    </tr>\n  </tbody>\n</table>\n<p>136 rows × 7 columns</p>\n</div>"
     },
     "execution_count": 3,
     "metadata": {},
     "output_type": "execute_result"
    }
   ],
   "source": [
    "# # # # follower list\n",
    "followerList = pd.read_csv('NDC/PresFollowerList.csv', sep=',', engine='python')\n",
    "followerList"
   ],
   "metadata": {
    "collapsed": false,
    "pycharm": {
     "name": "#%%\n"
    }
   }
  },
  {
   "cell_type": "code",
   "execution_count": 4,
   "outputs": [
    {
     "data": {
      "text/plain": "                   id      screen name  \\\n0           614748786          remade_   \n1            30848629  commonwealthsec   \n2          2438307378  MichelleNdiaye1   \n3  977171740748075009      AccraSpeaks   \n4          2559067837    NStottDespoja   \n\n                                                name  followers count  \\\n0                                 Osei-Owusu Francis             1557   \n1                                   The Commonwealth            90077   \n2  Michelle Ndiaye - Sense of responsability, ple...             3260   \n3                                        AccraSpeaks              873   \n4                              Natasha Stott Despoja            19238   \n\n   friends count  listed count           location  \n0           1186             3              Ghana  \n1           3758           970   The Commonwealth  \n2           2792            19  www.tanaforum.org  \n3            227             1       Accra, Ghana  \n4           1469           174                NaN  ",
      "text/html": "<div>\n<style scoped>\n    .dataframe tbody tr th:only-of-type {\n        vertical-align: middle;\n    }\n\n    .dataframe tbody tr th {\n        vertical-align: top;\n    }\n\n    .dataframe thead th {\n        text-align: right;\n    }\n</style>\n<table border=\"1\" class=\"dataframe\">\n  <thead>\n    <tr style=\"text-align: right;\">\n      <th></th>\n      <th>id</th>\n      <th>screen name</th>\n      <th>name</th>\n      <th>followers count</th>\n      <th>friends count</th>\n      <th>listed count</th>\n      <th>location</th>\n    </tr>\n  </thead>\n  <tbody>\n    <tr>\n      <th>0</th>\n      <td>614748786</td>\n      <td>remade_</td>\n      <td>Osei-Owusu Francis</td>\n      <td>1557</td>\n      <td>1186</td>\n      <td>3</td>\n      <td>Ghana</td>\n    </tr>\n    <tr>\n      <th>1</th>\n      <td>30848629</td>\n      <td>commonwealthsec</td>\n      <td>The Commonwealth</td>\n      <td>90077</td>\n      <td>3758</td>\n      <td>970</td>\n      <td>The Commonwealth</td>\n    </tr>\n    <tr>\n      <th>2</th>\n      <td>2438307378</td>\n      <td>MichelleNdiaye1</td>\n      <td>Michelle Ndiaye - Sense of responsability, ple...</td>\n      <td>3260</td>\n      <td>2792</td>\n      <td>19</td>\n      <td>www.tanaforum.org</td>\n    </tr>\n    <tr>\n      <th>3</th>\n      <td>977171740748075009</td>\n      <td>AccraSpeaks</td>\n      <td>AccraSpeaks</td>\n      <td>873</td>\n      <td>227</td>\n      <td>1</td>\n      <td>Accra, Ghana</td>\n    </tr>\n    <tr>\n      <th>4</th>\n      <td>2559067837</td>\n      <td>NStottDespoja</td>\n      <td>Natasha Stott Despoja</td>\n      <td>19238</td>\n      <td>1469</td>\n      <td>174</td>\n      <td>NaN</td>\n    </tr>\n  </tbody>\n</table>\n</div>"
     },
     "execution_count": 4,
     "metadata": {},
     "output_type": "execute_result"
    }
   ],
   "source": [
    "# # # show the head\n",
    "followerList.head()"
   ],
   "metadata": {
    "collapsed": false,
    "pycharm": {
     "name": "#%%\n"
    }
   }
  },
  {
   "cell_type": "code",
   "execution_count": 5,
   "outputs": [
    {
     "data": {
      "text/plain": "0       1557\n1      90077\n2       3260\n3        873\n4      19238\n       ...  \n131    76748\n132      797\n133      121\n134     1910\n135      103\nName: followers count, Length: 136, dtype: int64"
     },
     "execution_count": 5,
     "metadata": {},
     "output_type": "execute_result"
    }
   ],
   "source": [
    "# # # show the number of followers\n",
    "followerList['followers count']"
   ],
   "metadata": {
    "collapsed": false,
    "pycharm": {
     "name": "#%%\n"
    }
   }
  },
  {
   "cell_type": "code",
   "execution_count": 6,
   "outputs": [
    {
     "data": {
      "text/plain": "0                  Ghana\n1       The Commonwealth\n2      www.tanaforum.org\n3           Accra, Ghana\n4                    NaN\n             ...        \n131           Jo'burg...\n132       Accra Newtown \n133                  NaN\n134         Accra, Ghana\n135                  NaN\nName: location, Length: 136, dtype: object"
     },
     "execution_count": 6,
     "metadata": {},
     "output_type": "execute_result"
    }
   ],
   "source": [
    "# # # show the location for the tweet\n",
    "followerList['location']"
   ],
   "metadata": {
    "collapsed": false,
    "pycharm": {
     "name": "#%%\n"
    }
   }
  },
  {
   "cell_type": "code",
   "execution_count": null,
   "outputs": [],
   "source": [
    "\n"
   ],
   "metadata": {
    "collapsed": false,
    "pycharm": {
     "name": "#%%\n"
    }
   }
  }
 ],
 "metadata": {
  "kernelspec": {
   "display_name": "Python 3",
   "language": "python",
   "name": "python3"
  },
  "language_info": {
   "codemirror_mode": {
    "name": "ipython",
    "version": 2
   },
   "file_extension": ".py",
   "mimetype": "text/x-python",
   "name": "python",
   "nbconvert_exporter": "python",
   "pygments_lexer": "ipython2",
   "version": "2.7.6"
  }
 },
 "nbformat": 4,
 "nbformat_minor": 0
}